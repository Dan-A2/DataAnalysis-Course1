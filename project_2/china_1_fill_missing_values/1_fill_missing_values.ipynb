{
 "cells": [
  {
   "cell_type": "markdown",
   "metadata": {},
   "source": [
    "<h1 align=center style=\"line-height:200%;font-family:vazir;color:#0099cc\">\n",
    "<font face=\"vazir\" color=\"#0099cc\">\n",
    "پر کردن مقادیر گم‌شده\n",
    "</font>\n",
    "</h1>\n",
    "\n",
    "<p dir=rtl style=\"direction: rtl;text-align: justify;line-height:200%;font-family:vazir;font-size:medium\">\n",
    "<font face=\"vazir\" size=3>\n",
    "در اولین گام از پروژه، با نحوه ی خواندن فایل‌هایی با کاراکتر‌های غیرمتداول آشنا می‌شویم، \n",
    "ویژگی‌های مختلف هر خانه را می‌بینیم و ویژگی‌هایی که به آن‌ها نیازی نداریم را حذف می‌کنیم. در ادامه تعداد سطرهای دارای مقادیر گم‌شده را به‌دست می‌آوریم و برای رفع آن‌ها چاره‌ای می‌اندیشیم.\n",
    "</font>\n",
    "</p>"
   ]
  },
  {
   "cell_type": "markdown",
   "metadata": {},
   "source": [
    "<h2 align=right style=\"line-height:200%;font-family:vazir;color:#0099cc\">\n",
    "<font face=\"vazir\" color=\"#0099cc\">\n",
    "مجموعه‌داده\n",
    "</font>\n",
    "</h2>\n",
    "\n",
    "<p dir=rtl style=\"direction: rtl;text-align: justify;line-height:200%;font-family:vazir;font-size:medium\">\n",
    "<font face=\"vazir\" size=3>\n",
    "در فایل <code>housing_data.csv</code> اطلاعات خانه‌های شهر پکن در اختیار شما گرفته است.\n",
    "از آنجا که در این مجموعه‌داده کاراکترهای چینی وجود دارد و انکودر (Encoder) پیش‌فرض پانداز قادر به شناسایی آن‌ها نیست نیاز است تا صراحتاً انکودر مناسب این کار را مشخص کنیم. \n",
    " لیست کامل انکودر‌های قابل استفاده در پایتون در <a href=\" https://docs.python.org/3/library/codecs.html#standard-encodings\"> این لینک </a> آمده است.\n",
    "با این حال،‌ انکودری که ما به‌دنبال آن هستیم و از کاراکترهای چینی پشتیبانی می‌کند، <code>gbk</code> نام دارد. پس فایل مجموعه‌داده را به کمک این انکودر خوانده و حاصل را در متغیر <code>housing</code> ذخیره می‌کنیم.\n",
    "</font>\n",
    "</p>"
   ]
  },
  {
   "cell_type": "code",
   "execution_count": 1,
   "metadata": {
    "colab": {
     "base_uri": "https://localhost:8080/"
    },
    "id": "YNr1VLVxlidw",
    "outputId": "3336573b-18bb-4070-a361-57db8668623b",
    "scrolled": true
   },
   "outputs": [
    {
     "name": "stderr",
     "output_type": "stream",
     "text": [
      "C:\\Users\\10661396\\AppData\\Local\\Temp\\ipykernel_3316\\259660202.py:2: DtypeWarning: Columns (2,10,11,13) have mixed types. Specify dtype option on import or set low_memory=False.\n",
      "  housing = pd.read_csv('housing_data.csv', encoding='gbk')\n"
     ]
    }
   ],
   "source": [
    "import pandas as pd\n",
    "housing = pd.read_csv('housing_data.csv', encoding='gbk')"
   ]
  },
  {
   "cell_type": "markdown",
   "metadata": {
    "id": "s52aPJ06ms5l"
   },
   "source": [
    "<p dir=rtl style=\"direction: rtl;text-align: justify;line-height:200%;font-family:vazir;font-size:medium\">\n",
    "<font face=\"vazir\" size=3>\n",
    "اکنون نگاهی به تعداد سطر و ستون مجموعه‌داده بیندازیم:\n",
    "</font>\n",
    "</p>"
   ]
  },
  {
   "cell_type": "code",
   "execution_count": 2,
   "metadata": {
    "colab": {
     "base_uri": "https://localhost:8080/"
    },
    "id": "lhyVJNk5mv_e",
    "outputId": "b557c81e-ccfe-4bf4-a1fb-a898e68edae1",
    "scrolled": true
   },
   "outputs": [
    {
     "data": {
      "text/plain": [
       "(318851, 22)"
      ]
     },
     "execution_count": 2,
     "metadata": {},
     "output_type": "execute_result"
    }
   ],
   "source": [
    "housing.shape"
   ]
  },
  {
   "cell_type": "markdown",
   "metadata": {
    "id": "Vnx9TUUrmw9m"
   },
   "source": [
    "<p dir=rtl style=\"direction: rtl;text-align: justify;line-height:200%;font-family:vazir;font-size:medium\">\n",
    "<font face=\"vazir\" size=3>\n",
    "همان‌طور که مشاهده می‌کنید اطلاعات بیش از سیصدهزار خانه در این فایل ذخیره شده است. این‌بار با مجموعه‌داده‌ای نسبتاً سنگین سر و کار داریم.\n",
    "۱۰ ستون اول داده را ببینیم تا با اطلاعات ذخیره‌شده در این مجموعه‌داده بهتر آشنا شویم.</font>\n",
    "</p>"
   ]
  },
  {
   "cell_type": "code",
   "execution_count": 3,
   "metadata": {
    "colab": {
     "base_uri": "https://localhost:8080/",
     "height": 558
    },
    "id": "7hSLFEvwnVBX",
    "outputId": "94dcccd6-57cc-4b4e-b44f-6651b4a9a54a",
    "scrolled": true
   },
   "outputs": [
    {
     "data": {
      "text/html": [
       "<div>\n",
       "<style scoped>\n",
       "    .dataframe tbody tr th:only-of-type {\n",
       "        vertical-align: middle;\n",
       "    }\n",
       "\n",
       "    .dataframe tbody tr th {\n",
       "        vertical-align: top;\n",
       "    }\n",
       "\n",
       "    .dataframe thead th {\n",
       "        text-align: right;\n",
       "    }\n",
       "</style>\n",
       "<table border=\"1\" class=\"dataframe\">\n",
       "  <thead>\n",
       "    <tr style=\"text-align: right;\">\n",
       "      <th></th>\n",
       "      <th>Unnamed: 0</th>\n",
       "      <th>url</th>\n",
       "      <th>id</th>\n",
       "      <th>Lng</th>\n",
       "      <th>Lat</th>\n",
       "      <th>Cid</th>\n",
       "      <th>tradeTime</th>\n",
       "      <th>DOM</th>\n",
       "      <th>totalPrice</th>\n",
       "      <th>square</th>\n",
       "      <th>...</th>\n",
       "      <th>kitchen</th>\n",
       "      <th>bathRoom</th>\n",
       "      <th>floor</th>\n",
       "      <th>constructionTime</th>\n",
       "      <th>renovationCondition</th>\n",
       "      <th>buildingStructure</th>\n",
       "      <th>ladderRatio</th>\n",
       "      <th>elevator</th>\n",
       "      <th>subway</th>\n",
       "      <th>district</th>\n",
       "    </tr>\n",
       "  </thead>\n",
       "  <tbody>\n",
       "    <tr>\n",
       "      <th>0</th>\n",
       "      <td>0</td>\n",
       "      <td>https://bj.lianjia.com/chengjiao/101084782030....</td>\n",
       "      <td>101084782030</td>\n",
       "      <td>116.475489</td>\n",
       "      <td>40.019520</td>\n",
       "      <td>1111027376244</td>\n",
       "      <td>2016-08-09</td>\n",
       "      <td>1464.0</td>\n",
       "      <td>415.0</td>\n",
       "      <td>131.00</td>\n",
       "      <td>...</td>\n",
       "      <td>1</td>\n",
       "      <td>1</td>\n",
       "      <td>高 26</td>\n",
       "      <td>2005</td>\n",
       "      <td>3</td>\n",
       "      <td>6</td>\n",
       "      <td>0.217</td>\n",
       "      <td>1.0</td>\n",
       "      <td>1.0</td>\n",
       "      <td>7</td>\n",
       "    </tr>\n",
       "    <tr>\n",
       "      <th>1</th>\n",
       "      <td>1</td>\n",
       "      <td>https://bj.lianjia.com/chengjiao/101086012217....</td>\n",
       "      <td>101086012217</td>\n",
       "      <td>116.453917</td>\n",
       "      <td>39.881534</td>\n",
       "      <td>1111027381879</td>\n",
       "      <td>2016-07-28</td>\n",
       "      <td>903.0</td>\n",
       "      <td>575.0</td>\n",
       "      <td>132.38</td>\n",
       "      <td>...</td>\n",
       "      <td>1</td>\n",
       "      <td>2</td>\n",
       "      <td>高 22</td>\n",
       "      <td>2004</td>\n",
       "      <td>4</td>\n",
       "      <td>6</td>\n",
       "      <td>0.667</td>\n",
       "      <td>1.0</td>\n",
       "      <td>0.0</td>\n",
       "      <td>7</td>\n",
       "    </tr>\n",
       "    <tr>\n",
       "      <th>2</th>\n",
       "      <td>2</td>\n",
       "      <td>https://bj.lianjia.com/chengjiao/101086041636....</td>\n",
       "      <td>101086041636</td>\n",
       "      <td>116.561978</td>\n",
       "      <td>39.877145</td>\n",
       "      <td>1111040862969</td>\n",
       "      <td>2016-12-11</td>\n",
       "      <td>1271.0</td>\n",
       "      <td>1030.0</td>\n",
       "      <td>198.00</td>\n",
       "      <td>...</td>\n",
       "      <td>1</td>\n",
       "      <td>3</td>\n",
       "      <td>中 4</td>\n",
       "      <td>2005</td>\n",
       "      <td>3</td>\n",
       "      <td>6</td>\n",
       "      <td>0.500</td>\n",
       "      <td>1.0</td>\n",
       "      <td>0.0</td>\n",
       "      <td>7</td>\n",
       "    </tr>\n",
       "    <tr>\n",
       "      <th>3</th>\n",
       "      <td>3</td>\n",
       "      <td>https://bj.lianjia.com/chengjiao/101086406841....</td>\n",
       "      <td>101086406841</td>\n",
       "      <td>116.438010</td>\n",
       "      <td>40.076114</td>\n",
       "      <td>1111043185817</td>\n",
       "      <td>2016-09-30</td>\n",
       "      <td>965.0</td>\n",
       "      <td>297.5</td>\n",
       "      <td>134.00</td>\n",
       "      <td>...</td>\n",
       "      <td>1</td>\n",
       "      <td>1</td>\n",
       "      <td>底 21</td>\n",
       "      <td>2008</td>\n",
       "      <td>1</td>\n",
       "      <td>6</td>\n",
       "      <td>0.273</td>\n",
       "      <td>1.0</td>\n",
       "      <td>0.0</td>\n",
       "      <td>6</td>\n",
       "    </tr>\n",
       "    <tr>\n",
       "      <th>4</th>\n",
       "      <td>4</td>\n",
       "      <td>https://bj.lianjia.com/chengjiao/101086920653....</td>\n",
       "      <td>101086920653</td>\n",
       "      <td>116.428392</td>\n",
       "      <td>39.886229</td>\n",
       "      <td>1111027381174</td>\n",
       "      <td>2016-08-28</td>\n",
       "      <td>927.0</td>\n",
       "      <td>392.0</td>\n",
       "      <td>81.00</td>\n",
       "      <td>...</td>\n",
       "      <td>1</td>\n",
       "      <td>1</td>\n",
       "      <td>中 6</td>\n",
       "      <td>1960</td>\n",
       "      <td>2</td>\n",
       "      <td>2</td>\n",
       "      <td>0.333</td>\n",
       "      <td>0.0</td>\n",
       "      <td>1.0</td>\n",
       "      <td>1</td>\n",
       "    </tr>\n",
       "    <tr>\n",
       "      <th>5</th>\n",
       "      <td>5</td>\n",
       "      <td>https://bj.lianjia.com/chengjiao/101087277815....</td>\n",
       "      <td>101087277815</td>\n",
       "      <td>116.466280</td>\n",
       "      <td>39.991363</td>\n",
       "      <td>1111027377512</td>\n",
       "      <td>2016-07-22</td>\n",
       "      <td>861.0</td>\n",
       "      <td>275.6</td>\n",
       "      <td>53.00</td>\n",
       "      <td>...</td>\n",
       "      <td>1</td>\n",
       "      <td>1</td>\n",
       "      <td>中 8</td>\n",
       "      <td>2005</td>\n",
       "      <td>3</td>\n",
       "      <td>6</td>\n",
       "      <td>0.333</td>\n",
       "      <td>1.0</td>\n",
       "      <td>0.0</td>\n",
       "      <td>7</td>\n",
       "    </tr>\n",
       "    <tr>\n",
       "      <th>6</th>\n",
       "      <td>6</td>\n",
       "      <td>https://bj.lianjia.com/chengjiao/101087292623....</td>\n",
       "      <td>101087292623</td>\n",
       "      <td>116.482586</td>\n",
       "      <td>39.891991</td>\n",
       "      <td>1111027380683</td>\n",
       "      <td>2016-07-14</td>\n",
       "      <td>851.0</td>\n",
       "      <td>275.0</td>\n",
       "      <td>73.00</td>\n",
       "      <td>...</td>\n",
       "      <td>1</td>\n",
       "      <td>1</td>\n",
       "      <td>高 6</td>\n",
       "      <td>1997</td>\n",
       "      <td>4</td>\n",
       "      <td>2</td>\n",
       "      <td>0.500</td>\n",
       "      <td>0.0</td>\n",
       "      <td>0.0</td>\n",
       "      <td>7</td>\n",
       "    </tr>\n",
       "    <tr>\n",
       "      <th>7</th>\n",
       "      <td>7</td>\n",
       "      <td>https://bj.lianjia.com/chengjiao/101087303800....</td>\n",
       "      <td>101087303800</td>\n",
       "      <td>116.453917</td>\n",
       "      <td>39.881534</td>\n",
       "      <td>1111027381879</td>\n",
       "      <td>2016-09-07</td>\n",
       "      <td>904.0</td>\n",
       "      <td>800.0</td>\n",
       "      <td>161.55</td>\n",
       "      <td>...</td>\n",
       "      <td>1</td>\n",
       "      <td>2</td>\n",
       "      <td>高 22</td>\n",
       "      <td>2004</td>\n",
       "      <td>4</td>\n",
       "      <td>6</td>\n",
       "      <td>0.667</td>\n",
       "      <td>1.0</td>\n",
       "      <td>0.0</td>\n",
       "      <td>7</td>\n",
       "    </tr>\n",
       "    <tr>\n",
       "      <th>8</th>\n",
       "      <td>8</td>\n",
       "      <td>https://bj.lianjia.com/chengjiao/101087463212....</td>\n",
       "      <td>101087463212</td>\n",
       "      <td>116.555729</td>\n",
       "      <td>40.162058</td>\n",
       "      <td>1111027379605</td>\n",
       "      <td>2016-09-04</td>\n",
       "      <td>873.0</td>\n",
       "      <td>134.0</td>\n",
       "      <td>48.00</td>\n",
       "      <td>...</td>\n",
       "      <td>1</td>\n",
       "      <td>1</td>\n",
       "      <td>高 10</td>\n",
       "      <td>2009</td>\n",
       "      <td>1</td>\n",
       "      <td>2</td>\n",
       "      <td>0.333</td>\n",
       "      <td>0.0</td>\n",
       "      <td>0.0</td>\n",
       "      <td>13</td>\n",
       "    </tr>\n",
       "    <tr>\n",
       "      <th>9</th>\n",
       "      <td>9</td>\n",
       "      <td>https://bj.lianjia.com/chengjiao/101087508625....</td>\n",
       "      <td>101087508625</td>\n",
       "      <td>116.453086</td>\n",
       "      <td>39.898397</td>\n",
       "      <td>1111027374519</td>\n",
       "      <td>2016-09-05</td>\n",
       "      <td>865.0</td>\n",
       "      <td>380.0</td>\n",
       "      <td>68.00</td>\n",
       "      <td>...</td>\n",
       "      <td>0</td>\n",
       "      <td>0</td>\n",
       "      <td>中 23</td>\n",
       "      <td>2009</td>\n",
       "      <td>4</td>\n",
       "      <td>6</td>\n",
       "      <td>0.308</td>\n",
       "      <td>1.0</td>\n",
       "      <td>1.0</td>\n",
       "      <td>1</td>\n",
       "    </tr>\n",
       "  </tbody>\n",
       "</table>\n",
       "<p>10 rows × 22 columns</p>\n",
       "</div>"
      ],
      "text/plain": [
       "   Unnamed: 0                                                url  \\\n",
       "0           0  https://bj.lianjia.com/chengjiao/101084782030....   \n",
       "1           1  https://bj.lianjia.com/chengjiao/101086012217....   \n",
       "2           2  https://bj.lianjia.com/chengjiao/101086041636....   \n",
       "3           3  https://bj.lianjia.com/chengjiao/101086406841....   \n",
       "4           4  https://bj.lianjia.com/chengjiao/101086920653....   \n",
       "5           5  https://bj.lianjia.com/chengjiao/101087277815....   \n",
       "6           6  https://bj.lianjia.com/chengjiao/101087292623....   \n",
       "7           7  https://bj.lianjia.com/chengjiao/101087303800....   \n",
       "8           8  https://bj.lianjia.com/chengjiao/101087463212....   \n",
       "9           9  https://bj.lianjia.com/chengjiao/101087508625....   \n",
       "\n",
       "             id         Lng        Lat            Cid   tradeTime     DOM  \\\n",
       "0  101084782030  116.475489  40.019520  1111027376244  2016-08-09  1464.0   \n",
       "1  101086012217  116.453917  39.881534  1111027381879  2016-07-28   903.0   \n",
       "2  101086041636  116.561978  39.877145  1111040862969  2016-12-11  1271.0   \n",
       "3  101086406841  116.438010  40.076114  1111043185817  2016-09-30   965.0   \n",
       "4  101086920653  116.428392  39.886229  1111027381174  2016-08-28   927.0   \n",
       "5  101087277815  116.466280  39.991363  1111027377512  2016-07-22   861.0   \n",
       "6  101087292623  116.482586  39.891991  1111027380683  2016-07-14   851.0   \n",
       "7  101087303800  116.453917  39.881534  1111027381879  2016-09-07   904.0   \n",
       "8  101087463212  116.555729  40.162058  1111027379605  2016-09-04   873.0   \n",
       "9  101087508625  116.453086  39.898397  1111027374519  2016-09-05   865.0   \n",
       "\n",
       "   totalPrice  square  ... kitchen bathRoom  floor constructionTime  \\\n",
       "0       415.0  131.00  ...       1        1   高 26             2005   \n",
       "1       575.0  132.38  ...       1        2   高 22             2004   \n",
       "2      1030.0  198.00  ...       1        3    中 4             2005   \n",
       "3       297.5  134.00  ...       1        1   底 21             2008   \n",
       "4       392.0   81.00  ...       1        1    中 6             1960   \n",
       "5       275.6   53.00  ...       1        1    中 8             2005   \n",
       "6       275.0   73.00  ...       1        1    高 6             1997   \n",
       "7       800.0  161.55  ...       1        2   高 22             2004   \n",
       "8       134.0   48.00  ...       1        1   高 10             2009   \n",
       "9       380.0   68.00  ...       0        0   中 23             2009   \n",
       "\n",
       "  renovationCondition buildingStructure  ladderRatio  elevator  subway  \\\n",
       "0                   3                 6        0.217       1.0     1.0   \n",
       "1                   4                 6        0.667       1.0     0.0   \n",
       "2                   3                 6        0.500       1.0     0.0   \n",
       "3                   1                 6        0.273       1.0     0.0   \n",
       "4                   2                 2        0.333       0.0     1.0   \n",
       "5                   3                 6        0.333       1.0     0.0   \n",
       "6                   4                 2        0.500       0.0     0.0   \n",
       "7                   4                 6        0.667       1.0     0.0   \n",
       "8                   1                 2        0.333       0.0     0.0   \n",
       "9                   4                 6        0.308       1.0     1.0   \n",
       "\n",
       "   district  \n",
       "0         7  \n",
       "1         7  \n",
       "2         7  \n",
       "3         6  \n",
       "4         1  \n",
       "5         7  \n",
       "6         7  \n",
       "7         7  \n",
       "8        13  \n",
       "9         1  \n",
       "\n",
       "[10 rows x 22 columns]"
      ]
     },
     "execution_count": 3,
     "metadata": {},
     "output_type": "execute_result"
    }
   ],
   "source": [
    "housing.head(10)"
   ]
  },
  {
   "cell_type": "markdown",
   "metadata": {},
   "source": [
    "<p dir=rtl style=\"direction: rtl;text-align: justify;line-height:200%;font-family:vazir;font-size:medium\">\n",
    "<font face=\"vazir\" size=3>\n",
    "در جدول زیر هرکدام از ویژگی‌های خانه‌ها (ستون‌های دیتافریم) شرح داده شده است:\n",
    "</p>"
   ]
  },
  {
   "cell_type": "markdown",
   "metadata": {
    "id": "3QLUzdDznaGb"
   },
   "source": [
    "<center>\n",
    "<table style=\"direction: rtl;align: center; text-align: justify;line-height:200%;font-family:vazir;font-size:medium\">\n",
    "  <tr>\n",
    "      <td><code>Unnamed: 0</code></td><td>نمایه‌ی داده‌هاست که نیازی به آن نداریم و باید حذف شود.</td>\n",
    "</tr>\n",
    "\n",
    "  <tr>\n",
    "      <td><code>url</code></td><td>لینک معامله</td>\n",
    "</tr>\n",
    " \n",
    "\n",
    "<tr>\n",
    "      <td><code>id</code></td><td>شناسه‌ی معامله</td>\n",
    "</tr>\n",
    " \n",
    "<tr>\n",
    "      <td><code>Lng</code></td><td>طول جغرافیایی خانه‌ی معامله شده</td>\n",
    "</tr>\n",
    " \n",
    "  \n",
    "<tr>\n",
    "      <td><code>Lat</code></td><td>عرض جغرافیایی خانه‌ی معامله شده</td>\n",
    "</tr>\n",
    " \n",
    "  \n",
    "<tr>\n",
    "      <td><code>Cid</code></td><td>شناسه‌ی خریدار</td>\n",
    "</tr>\n",
    " \n",
    "       \n",
    " \n",
    "<tr>\n",
    "      <td><code>tradeTime</code></td><td>زمان انجام معامله</td>\n",
    "</tr>    \n",
    "\n",
    " \n",
    "<tr>\n",
    "      <td><code>DOM</code></td><td>تعداد روزی که از زمان گذاشتن آگهی خانه می‌گذرد.</td>\n",
    "</tr>    \n",
    "\n",
    "<tr>\n",
    "      <td><code>totalPrice</code></td><td>قیمتی که خانه به فروش رفته است.</td>\n",
    "</tr>    \n",
    "  \n",
    "<tr>\n",
    "      <td><code>square</code></td><td>متراژ خانه</td>\n",
    "</tr>       \n",
    "\n",
    "<tr>\n",
    "      <td><code>livingRoom</code></td><td>تعداد اتاق نشیمن</td>\n",
    "</tr>       \n",
    "\n",
    "\n",
    "    \n",
    "<tr>\n",
    "      <td><code>drawingRoom</code></td><td>تعداد اتاق پذیرایی</td>\n",
    "</tr>       \n",
    "\n",
    "    \n",
    "    \n",
    "<tr>\n",
    "      <td><code>kitchen</code></td><td>تعداد آشپزخانه</td>\n",
    "</tr>       \n",
    "\n",
    "        \n",
    "<tr>\n",
    "      <td><code>bathRoom</code></td><td>تعداد حمام</td>\n",
    "</tr>       \n",
    "\n",
    "\n",
    "<tr>\n",
    "      <td><code>floor</code></td><td>طبقه و ارتفاع خانه</td>\n",
    "</tr>       \n",
    "\n",
    "    \n",
    "<tr>\n",
    "      <td><code>constructionTime</code></td><td>سال ساخت خانه</td>\n",
    "</tr>       \n",
    "  \n",
    "  \n",
    "    \n",
    "<tr>\n",
    "      <td><code>renovationCondition</code></td><td>وضعیت نوسازی خانه</td>\n",
    "</tr>       \n",
    "  \n",
    "    \n",
    "<tr>\n",
    "      <td><code>buildingStructure</code></td><td>ساختار خانه</td>\n",
    "</tr>       \n",
    "  \n",
    "\n",
    "<tr>\n",
    "      <td><code>ladderRatio</code></td><td>طبقه و ارتفاع خانه</td>\n",
    "</tr>             \n",
    "  \n",
    "<tr>\n",
    "      <td><code>elevator</code></td><td>خانه آسانسور دارد یا خیر</td>\n",
    "</tr>       \n",
    "  \n",
    "  \n",
    "<tr>\n",
    "      <td><code>subway</code></td><td>خانه به مترو دسترسی دارد یا خیر</td>\n",
    "</tr>    \n",
    "    \n",
    "  \n",
    "<tr>\n",
    "      <td><code>district</code></td><td>منطقه‌ای که خانه در آن قرار دارد</td>\n",
    "</tr>    \n",
    "    \n",
    "\n",
    "</table>\n",
    "\n",
    "</center>"
   ]
  },
  {
   "cell_type": "markdown",
   "metadata": {
    "id": "JBS8Gk_isDie"
   },
   "source": [
    "<h2 align=right style=\"line-height:200%;font-family:vazir;color:#0099cc\">\n",
    "<font face=\"vazir\" color=\"#0099cc\">\n",
    "قسمت اول\n",
    "</font>\n",
    "</h2>\n",
    "<p dir=rtl style=\"direction: rtl;text-align: right;line-height:200%;font-family:vazir;font-size:medium\">\n",
    "<font face=\"vazir\" size=3>\n",
    "ستون‌های <code>url</code>، <code>id</code>، <code>Cid</code> و ستون اول که نمایه‌ی داده‌ها بود را حذف کنید  و دیتافریم جدید را در متغیر <code>housing_dropped</code> ذخیره کنید.\n",
    "</font>\n",
    "</p>\n"
   ]
  },
  {
   "cell_type": "code",
   "execution_count": 7,
   "metadata": {
    "id": "sx9KeILpnjno",
    "scrolled": true
   },
   "outputs": [],
   "source": [
    "housing_dropped = housing.drop(['Cid', 'id', 'url', \"Unnamed: 0\"], axis=1)"
   ]
  },
  {
   "cell_type": "markdown",
   "metadata": {
    "id": "pK7bn4sdwsV3"
   },
   "source": [
    "<h2 align=right style=\"line-height:200%;font-family:vazir;color:#0099cc\">\n",
    "<font face=\"vazir\" color=\"#0099cc\">\n",
    "قسمت دوم\n",
    "</font>\n",
    "</h2>\n",
    "<p dir=rtl style=\"direction: rtl;text-align: justify;line-height:200%;font-family:vazir;font-size:medium\">\n",
    "<font face=\"vazir\" size=3>\n",
    "یک دیتافریم به نام <code>housing_null</code> بسازید که در نمایه‌های آن نام ستون‌ها و در ستونی به نام <code>0</code>،‌ تعداد مقادیر گم‌شده‌ی آن ستون قرار گرفته باشد. پنج ردیف اول این دیتافریم به شکل زیر خواهد بود:\n",
    "</font>\n",
    "</p>\n",
    "\n",
    "<center>\n",
    "<p style=\"text-align: right;line-height:200%;font-family:vazir;font-size:medium\">\n",
    "\n",
    "| | <code>0</code> |\n",
    "| :---: | :---: |\n",
    "| <code>Lng</code> | 0 |\n",
    "| <code>Lat</code> | 0 |\n",
    "| <code>tradeTime</code> | 0 |\n",
    "| <code>DOM</code> | 157977 |\n",
    "| <code>totalPrice</code> | 0 |\n",
    "\n",
    "</p>\n",
    "<center>"
   ]
  },
  {
   "cell_type": "code",
   "execution_count": 10,
   "metadata": {
    "colab": {
     "base_uri": "https://localhost:8080/",
     "height": 588
    },
    "id": "A-hZf01QukJQ",
    "outputId": "4ed36ad0-49cb-47ae-b5b4-e196041a13a7",
    "scrolled": true
   },
   "outputs": [
    {
     "data": {
      "text/html": [
       "<div>\n",
       "<style scoped>\n",
       "    .dataframe tbody tr th:only-of-type {\n",
       "        vertical-align: middle;\n",
       "    }\n",
       "\n",
       "    .dataframe tbody tr th {\n",
       "        vertical-align: top;\n",
       "    }\n",
       "\n",
       "    .dataframe thead th {\n",
       "        text-align: right;\n",
       "    }\n",
       "</style>\n",
       "<table border=\"1\" class=\"dataframe\">\n",
       "  <thead>\n",
       "    <tr style=\"text-align: right;\">\n",
       "      <th></th>\n",
       "      <th>0</th>\n",
       "    </tr>\n",
       "  </thead>\n",
       "  <tbody>\n",
       "    <tr>\n",
       "      <th>Lng</th>\n",
       "      <td>0</td>\n",
       "    </tr>\n",
       "    <tr>\n",
       "      <th>Lat</th>\n",
       "      <td>0</td>\n",
       "    </tr>\n",
       "    <tr>\n",
       "      <th>tradeTime</th>\n",
       "      <td>0</td>\n",
       "    </tr>\n",
       "    <tr>\n",
       "      <th>DOM</th>\n",
       "      <td>157977</td>\n",
       "    </tr>\n",
       "    <tr>\n",
       "      <th>totalPrice</th>\n",
       "      <td>0</td>\n",
       "    </tr>\n",
       "    <tr>\n",
       "      <th>square</th>\n",
       "      <td>0</td>\n",
       "    </tr>\n",
       "    <tr>\n",
       "      <th>livingRoom</th>\n",
       "      <td>0</td>\n",
       "    </tr>\n",
       "    <tr>\n",
       "      <th>drawingRoom</th>\n",
       "      <td>0</td>\n",
       "    </tr>\n",
       "    <tr>\n",
       "      <th>kitchen</th>\n",
       "      <td>0</td>\n",
       "    </tr>\n",
       "    <tr>\n",
       "      <th>bathRoom</th>\n",
       "      <td>0</td>\n",
       "    </tr>\n",
       "    <tr>\n",
       "      <th>floor</th>\n",
       "      <td>0</td>\n",
       "    </tr>\n",
       "    <tr>\n",
       "      <th>constructionTime</th>\n",
       "      <td>0</td>\n",
       "    </tr>\n",
       "    <tr>\n",
       "      <th>renovationCondition</th>\n",
       "      <td>0</td>\n",
       "    </tr>\n",
       "    <tr>\n",
       "      <th>buildingStructure</th>\n",
       "      <td>0</td>\n",
       "    </tr>\n",
       "    <tr>\n",
       "      <th>ladderRatio</th>\n",
       "      <td>0</td>\n",
       "    </tr>\n",
       "    <tr>\n",
       "      <th>elevator</th>\n",
       "      <td>32</td>\n",
       "    </tr>\n",
       "    <tr>\n",
       "      <th>subway</th>\n",
       "      <td>32</td>\n",
       "    </tr>\n",
       "    <tr>\n",
       "      <th>district</th>\n",
       "      <td>0</td>\n",
       "    </tr>\n",
       "  </tbody>\n",
       "</table>\n",
       "</div>"
      ],
      "text/plain": [
       "                          0\n",
       "Lng                       0\n",
       "Lat                       0\n",
       "tradeTime                 0\n",
       "DOM                  157977\n",
       "totalPrice                0\n",
       "square                    0\n",
       "livingRoom                0\n",
       "drawingRoom               0\n",
       "kitchen                   0\n",
       "bathRoom                  0\n",
       "floor                     0\n",
       "constructionTime          0\n",
       "renovationCondition       0\n",
       "buildingStructure         0\n",
       "ladderRatio               0\n",
       "elevator                 32\n",
       "subway                   32\n",
       "district                  0"
      ]
     },
     "execution_count": 10,
     "metadata": {},
     "output_type": "execute_result"
    }
   ],
   "source": [
    "housing_null = housing_dropped.isnull().sum()\n",
    "housing_null = pd.DataFrame(data=housing_null.values, index=housing_null.index, columns=['0'])\n",
    "housing_null"
   ]
  },
  {
   "cell_type": "markdown",
   "metadata": {
    "id": "xv-spjYxzdeN"
   },
   "source": [
    "<p dir=rtl style=\"direction: rtl;text-align: justify;line-height:200%;font-family:vazir;font-size:medium\">\n",
    "<font face=\"vazir\" size=3>\n",
    "ستون <code>DOM</code> که نشان‌دهنده‌ی تعداد روزهای قرار گرفتن آگهی بر روی سایت است، مقادیر گم‌‌شده‌ی بسیار زیادی دارد و اگر بخواهیم ردیف‌هایی که مقدار <code>DOM</code> آنها موجود نیست را حذف کنیم، تقریباً نیمی از داده‌های ما حذف خواهند شد! از طرفی این ویژگی نتایج مهمی را در مورد خانه‌ها در بر دارد و حذف ستون <code>DOM</code> کار معقولانه‌ای نیست.\n",
    "پس باید به فکر پر‌کردن مقادیر خالی این ستون باشیم.</font>\n",
    "</p>"
   ]
  },
  {
   "cell_type": "markdown",
   "metadata": {
    "id": "xtWYi7IBzry1"
   },
   "source": [
    "<p dir=rtl style=\"direction: rtl;text-align: justify;line-height:200%;font-family:vazir;font-size:medium\">\n",
    "<font face=\"vazir\" size=3>\n",
    "می‌توان از میانگین یا مد ستون برای پر کردن مقادیر خالی استفاده کرد. بیایید برای تصمیم‌گیری بهتر نگاهی به نمودار جعبه‌ای بیندازیم.\n",
    "</font>\n",
    "</p>\n"
   ]
  },
  {
   "cell_type": "code",
   "execution_count": 11,
   "metadata": {
    "colab": {
     "base_uri": "https://localhost:8080/",
     "height": 286
    },
    "id": "0vUO6T4YuvYT",
    "outputId": "2a9e43c4-9949-4766-922c-3b39b9966923",
    "scrolled": true
   },
   "outputs": [
    {
     "data": {
      "text/plain": [
       "<Axes: >"
      ]
     },
     "execution_count": 11,
     "metadata": {},
     "output_type": "execute_result"
    },
    {
     "data": {
      "image/png": "[encoded data removed]",
      "text/plain": [
       "<Figure size 432x288 with 1 Axes>"
      ]
     },
     "metadata": {
      "needs_background": "light"
     },
     "output_type": "display_data"
    }
   ],
   "source": [
    "housing_dropped.DOM.plot(kind = 'box')"
   ]
  },
  {
   "cell_type": "markdown",
   "metadata": {
    "id": "efMJ3eKpzyNQ"
   },
   "source": [
    "<p dir=rtl style=\"direction: rtl;text-align: justify;line-height:200%;font-family:vazir;font-size:medium\">\n",
    "<font face=\"vazir\" size=3>\n",
    "متاسفانه اطلاعات پرت زیادی در این ستون قرار دارد. در این شرایط استفاده از مد گزینه‌ی بهتری خواهد بود. (برای آشنایی با انواع روش‌های کار با داده‌های گم‌شده،\n",
    "<a href=\"https://stackabuse.com/python-how-to-handle-missing-dataframe-values-in-pandas/\">این لینک</a>\n",
    "  را ببینید.)\n",
    "</font>\n",
    "</p>"
   ]
  },
  {
   "cell_type": "markdown",
   "metadata": {
    "id": "4m7CT03Uz6ec"
   },
   "source": [
    "<p dir=rtl style=\"direction: rtl;text-align: justify;line-height:200%;font-family:vazir;font-size:medium\">\n",
    "<font face=\"vazir\" size=3>\n",
    "ابتدا به‌کمک متد <code>copy</code> یک کپی از دیتافریم اصلی می‌گیریم تا ادامه‌ی عملیات مدیریت مقادیر گم‌شده را بر روی آن انجام دهیم. نام این دیتافریم جدید را <code>housing_no_missing</code> می‌گذاریم.\n",
    "</font>\n",
    "</p>"
   ]
  },
  {
   "cell_type": "code",
   "execution_count": 12,
   "metadata": {
    "id": "HFt1T-7Dz5id",
    "scrolled": true
   },
   "outputs": [],
   "source": [
    "housing_no_missing = housing_dropped.copy()"
   ]
  },
  {
   "cell_type": "markdown",
   "metadata": {
    "id": "JN_j0PmF0KWw"
   },
   "source": [
    "<div dir=rtl id=\"start\" style=\"direction: rtl;text-align: justify;line-height:200%;font-family:vazir;font-size:medium\">\n",
    "\t<font face=\"vazir\" size=3>\n",
    "دیتافریم جدید دقیقاً مانند دیتافریم قبلی است و با تغییر آن، دیتافریم اصلی تغییر نمی‌کند (اگر از تابع <code>copy</code> استفاده نمی‌کردیم، با تغییر دیتافریم جدید، هر دو فایل تغییر می‌کرد).\n",
    "</div>\n"
   ]
  },
  {
   "cell_type": "markdown",
   "metadata": {
    "id": "6tck4LGH2Vvu"
   },
   "source": [
    "<h2 align=right style=\"line-height:200%;font-family:vazir;color:#0099cc\">\n",
    "<font face=\"vazir\" color=\"#0099cc\">\n",
    "قسمت سوم\n",
    "</font>\n",
    "</h2>\n",
    "<p dir=rtl style=\"direction: rtl;text-align: justify;line-height:200%;font-family:vazir;font-size:medium\">\n",
    "<font face=\"vazir\" size=3>\n",
    "در دیتافریم <code>housing_no_missing</code> مقادیر خالی ستون <code>DOM</code> را با مقدار مد این ستون جایگزین کنید.  پس از آن سطرهایی که مقدار <code>elevator</code> یا <code>subway</code> آن‌ها خالی است را حذف کنید.\n",
    "</font>\n",
    "</p>"
   ]
  },
  {
   "cell_type": "code",
   "execution_count": 15,
   "metadata": {
    "id": "oo0Zcx1qzzZZ",
    "scrolled": true
   },
   "outputs": [],
   "source": [
    "DOM_mode = housing_no_missing['DOM'].mode()[0]\n",
    "housing_no_missing['DOM'].fillna(DOM_mode, inplace=True)\n",
    "housing_no_missing.dropna(subset=[\"elevator\", \"subway\"], inplace=True)"
   ]
  },
  {
   "cell_type": "markdown",
   "metadata": {},
   "source": [
    "\n",
    "<div dir=rtl id=\"start\" style=\"direction: rtl;text-align: justify;line-height:200%;font-family:vazir;font-size:medium\">\n",
    "\t<font face=\"vazir\" size=3>\n",
    "اگر قسمت سوم را درست حل کرده باشید، دیتافریم <code>housing_no_missing</code> باید ۳۱۸۸۱۹ سطر داشته باشد و نباید هیچ‌کدام از ستون‌ها، مقدار گم‌شده داشته باشد.</div>\n"
   ]
  },
  {
   "cell_type": "code",
   "execution_count": 16,
   "metadata": {
    "scrolled": true
   },
   "outputs": [
    {
     "name": "stdout",
     "output_type": "stream",
     "text": [
      "<class 'pandas.core.frame.DataFrame'>\n",
      "Int64Index: 318819 entries, 0 to 318850\n",
      "Data columns (total 18 columns):\n",
      " #   Column               Non-Null Count   Dtype  \n",
      "---  ------               --------------   -----  \n",
      " 0   Lng                  318819 non-null  float64\n",
      " 1   Lat                  318819 non-null  float64\n",
      " 2   tradeTime            318819 non-null  object \n",
      " 3   DOM                  318819 non-null  float64\n",
      " 4   totalPrice           318819 non-null  float64\n",
      " 5   square               318819 non-null  float64\n",
      " 6   livingRoom           318819 non-null  object \n",
      " 7   drawingRoom          318819 non-null  object \n",
      " 8   kitchen              318819 non-null  int64  \n",
      " 9   bathRoom             318819 non-null  object \n",
      " 10  floor                318819 non-null  object \n",
      " 11  constructionTime     318819 non-null  object \n",
      " 12  renovationCondition  318819 non-null  int64  \n",
      " 13  buildingStructure    318819 non-null  int64  \n",
      " 14  ladderRatio          318819 non-null  float64\n",
      " 15  elevator             318819 non-null  float64\n",
      " 16  subway               318819 non-null  float64\n",
      " 17  district             318819 non-null  int64  \n",
      "dtypes: float64(8), int64(4), object(6)\n",
      "memory usage: 46.2+ MB\n"
     ]
    }
   ],
   "source": [
    "housing_no_missing.info()"
   ]
  },
  {
   "cell_type": "markdown",
   "metadata": {
    "id": "JGqoAI6f2feM"
   },
   "source": [
    "<p dir=rtl style=\"direction: rtl;text-align: justify;line-height:200%;font-family:vazir;font-size:medium\">\n",
    "<font face=\"vazir\" size=3>\n",
    "پس از انجام این عملیات دیگر داده‌ی گم‌شده‌ای نداریم و می‌توانیم به گام بعدی پروژه برویم. در گام بعد از دیتافریم <code>housing_no_missing</code> استفاده خواهیم کرد. دقت کنید که هنگام ذخیره فایل بر روی دیسک هم باید انکودری انتخاب کنیم که قادر به شناسایی همه کاراکتر‌های دیتافریم باشد.\n",
    "</font>\n",
    "</p>\n"
   ]
  },
  {
   "cell_type": "code",
   "execution_count": 17,
   "metadata": {
    "id": "a9tOkgKH2tuG",
    "scrolled": true
   },
   "outputs": [],
   "source": [
    "housing_no_missing.to_csv('housing_no_missing.csv', encoding='gbk', index=False)"
   ]
  },
  {
   "cell_type": "markdown",
   "metadata": {},
   "source": [
    "<h2 align=right style=\"line-height:200%;font-family:vazir;color:#0099cc\">\n",
    "<font face=\"vazir\" color=\"#0099cc\">\n",
    "<b>سلول جواب‌ساز</b>\n",
    "</font>\n",
    "</h2>\n",
    "\n",
    "\n",
    "<p dir=rtl style=\"direction: rtl; text-align: justify; line-height:200%; font-family:vazir; font-size:medium\">\n",
    "<font face=\"vazir\" size=3>\n",
    "    برای ساخته‌شدن فایل <code>result.zip</code> سلول زیر را اجرا کنید. توجه داشته باشید که پیش از اجرای سلول زیر تغییرات اعمال شده در نت‌بوک را ذخیره کرده باشید (<code>ctrl+s</code>) تا در صورت نیاز به پشتیبانی امکان بررسی کد شما وجود داشته باشد.\n",
    "</font>\n",
    "</p>"
   ]
  },
  {
   "cell_type": "code",
   "execution_count": 18,
   "metadata": {
    "scrolled": true
   },
   "outputs": [
    {
     "name": "stdout",
     "output_type": "stream",
     "text": [
      "File Paths:\n",
      "['housing_dropped_cols.npy', 'housing_null.npy', 'housing_no_missing_DOM.npy', '1_fill_missing_values.ipynb']\n"
     ]
    }
   ],
   "source": [
    "import zipfile\n",
    "import joblib\n",
    "import numpy as np\n",
    "\n",
    "np.save(\"housing_dropped_cols\", np.array(housing_dropped.columns.to_list()))\n",
    "np.save(\"housing_null\", housing_null.to_numpy())\n",
    "np.save(\"housing_no_missing_DOM\", housing_no_missing['DOM'].to_numpy())\n",
    "\n",
    "def compress(file_names):\n",
    "    print(\"File Paths:\")\n",
    "    print(file_names)\n",
    "    compression = zipfile.ZIP_DEFLATED\n",
    "    with zipfile.ZipFile(\"result.zip\", mode=\"w\") as zf:\n",
    "        for file_name in file_names:\n",
    "            zf.write('./' + file_name, file_name, compress_type=compression)\n",
    "\n",
    "file_names = [\"housing_dropped_cols.npy\", \"housing_null.npy\", \"housing_no_missing_DOM.npy\", \"1_fill_missing_values.ipynb\"]\n",
    "compress(file_names)"
   ]
  }
 ],
 "metadata": {
  "colab": {
   "name": "step1.ipynb",
   "provenance": []
  },
  "kernelspec": {
   "display_name": "Python 3 (ipykernel)",
   "language": "python",
   "name": "python3"
  },
  "language_info": {
   "codemirror_mode": {
    "name": "ipython",
    "version": 3
   },
   "file_extension": ".py",
   "mimetype": "text/x-python",
   "name": "python",
   "nbconvert_exporter": "python",
   "pygments_lexer": "ipython3",
   "version": "3.11.4"
  },
  "vscode": {
   "interpreter": {
    "hash": "44e7e1b8fa2096bd5707ed7fd18b1724a2db25f4c565a7673f8b6e7bfc49d25d"
   }
  }
 },
 "nbformat": 4,
 "nbformat_minor": 2
}
