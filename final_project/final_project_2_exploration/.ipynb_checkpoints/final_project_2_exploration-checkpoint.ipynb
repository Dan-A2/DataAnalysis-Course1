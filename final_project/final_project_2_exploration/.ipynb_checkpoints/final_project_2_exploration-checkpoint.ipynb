{
 "cells": [
  {
   "cell_type": "markdown",
   "id": "da7b567a",
   "metadata": {
    "id": "dbd55073"
   },
   "source": [
    "<h1 align=center style=\"line-height:200%;font-family:vazir;color:#0099cc\">\n",
    "<font face=\"vazir\" color=\"#0099cc\">\n",
    "اکتشاف\n",
    "</font>\n",
    "</h1>\n",
    "\n",
    "\n",
    "<p dir=rtl style=\"direction: rtl;text-align: justify;line-height:200%;font-family:vazir;font-size:medium\">\n",
    "<font face=\"vazir\" size=3>\n",
    "در این گام از پروژه به تحلیل بیشتر بر روی سفارش‌ها پرداخته و با پاسخ به چند پرسش و رسم چند نمودار، دید بهتری از اطلاعات مالی شرکت به دست خواهید آورد.\n",
    "</font>\n",
    "</p>"
   ]
  },
  {
   "cell_type": "markdown",
   "id": "387f202f",
   "metadata": {},
   "source": [
    "   \n",
    "<h2 align=right style=\"line-height:200%;font-family:vazir;color:#0099cc\">\n",
    "<font face=\"vazir\" color=\"#0099cc\">\n",
    "کتابخانه‌ها\n",
    "</font>\n",
    "</h2>\n",
    "\n",
    "<p dir=rtl style=\"direction: rtl;text-align: justify;line-height:200%;font-family:vazir;font-size:medium\">\n",
    "<font face=\"vazir\" size=3>\n",
    "       ابتدا کتابخانه‌های مورد نیاز خود را فرا بخوانید.\n",
    "</font>\n",
    "</p>"
   ]
  },
  {
   "cell_type": "code",
   "execution_count": 1,
   "id": "2c6090b2",
   "metadata": {
    "id": "4a1c31c4"
   },
   "outputs": [],
   "source": [
    "# import libraries\n",
    "import numpy as np\n",
    "import pandas as pd\n",
    "import matplotlib.pyplot as plt\n",
    "import seaborn as sns"
   ]
  },
  {
   "cell_type": "markdown",
   "id": "823fa846",
   "metadata": {
    "id": "76c16791"
   },
   "source": [
    "\n",
    "<h2 align=right style=\"line-height:200%;font-family:vazir;color:#0099cc\">\n",
    "<font face=\"vazir\" color=\"#0099cc\">\n",
    "    خواندن مجموعه‌داده\n",
    "</font>\n",
    "</h2>\n",
    "\n",
    "<p dir=rtl style=\"direction: rtl;text-align: justify;line-height:200%;font-family:vazir;font-size:medium\">\n",
    "<font face=\"vazir\" size=3>\n",
    "    حال داده‌های پیش‌پردازش‌شده را که در گام قبل پروژه در فایل <code>preprocessed_sales.csv</code> ذخیره کردید به شکل یک دیتافریم بخوانید.\n",
    "</font>\n",
    "</p>"
   ]
  },
  {
   "cell_type": "code",
   "execution_count": 12,
   "id": "52067df3",
   "metadata": {
    "colab": {
     "base_uri": "https://localhost:8080/",
     "height": 434
    },
    "id": "b0ad0cab",
    "outputId": "ed789465-43da-484a-bc18-fcd536a6f65d"
   },
   "outputs": [
    {
     "data": {
      "text/html": [
       "<div>\n",
       "<style scoped>\n",
       "    .dataframe tbody tr th:only-of-type {\n",
       "        vertical-align: middle;\n",
       "    }\n",
       "\n",
       "    .dataframe tbody tr th {\n",
       "        vertical-align: top;\n",
       "    }\n",
       "\n",
       "    .dataframe thead th {\n",
       "        text-align: right;\n",
       "    }\n",
       "</style>\n",
       "<table border=\"1\" class=\"dataframe\">\n",
       "  <thead>\n",
       "    <tr style=\"text-align: right;\">\n",
       "      <th></th>\n",
       "      <th>InvoiceNumber</th>\n",
       "      <th>ProductCode</th>\n",
       "      <th>ProductName</th>\n",
       "      <th>Quantity</th>\n",
       "      <th>InvoiceDate</th>\n",
       "      <th>UnitPrice</th>\n",
       "      <th>CustomerId</th>\n",
       "      <th>Country</th>\n",
       "    </tr>\n",
       "  </thead>\n",
       "  <tbody>\n",
       "    <tr>\n",
       "      <th>0</th>\n",
       "      <td>489434</td>\n",
       "      <td>85048</td>\n",
       "      <td>15CM CHRISTMAS GLASS BALL 20 LIGHTS</td>\n",
       "      <td>12</td>\n",
       "      <td>2009-12-01 07:45:00</td>\n",
       "      <td>6.95</td>\n",
       "      <td>13085.0</td>\n",
       "      <td>United Kingdom</td>\n",
       "    </tr>\n",
       "    <tr>\n",
       "      <th>1</th>\n",
       "      <td>489434</td>\n",
       "      <td>79323P</td>\n",
       "      <td>PINK CHERRY LIGHTS</td>\n",
       "      <td>12</td>\n",
       "      <td>2009-12-01 07:45:00</td>\n",
       "      <td>6.75</td>\n",
       "      <td>13085.0</td>\n",
       "      <td>United Kingdom</td>\n",
       "    </tr>\n",
       "    <tr>\n",
       "      <th>2</th>\n",
       "      <td>489434</td>\n",
       "      <td>79323W</td>\n",
       "      <td>WHITE CHERRY LIGHTS</td>\n",
       "      <td>12</td>\n",
       "      <td>2009-12-01 07:45:00</td>\n",
       "      <td>6.75</td>\n",
       "      <td>13085.0</td>\n",
       "      <td>United Kingdom</td>\n",
       "    </tr>\n",
       "    <tr>\n",
       "      <th>3</th>\n",
       "      <td>489434</td>\n",
       "      <td>22041</td>\n",
       "      <td>RECORD FRAME 7\" SINGLE SIZE</td>\n",
       "      <td>48</td>\n",
       "      <td>2009-12-01 07:45:00</td>\n",
       "      <td>2.10</td>\n",
       "      <td>13085.0</td>\n",
       "      <td>United Kingdom</td>\n",
       "    </tr>\n",
       "    <tr>\n",
       "      <th>4</th>\n",
       "      <td>489434</td>\n",
       "      <td>21232</td>\n",
       "      <td>STRAWBERRY CERAMIC TRINKET BOX</td>\n",
       "      <td>24</td>\n",
       "      <td>2009-12-01 07:45:00</td>\n",
       "      <td>1.25</td>\n",
       "      <td>13085.0</td>\n",
       "      <td>United Kingdom</td>\n",
       "    </tr>\n",
       "  </tbody>\n",
       "</table>\n",
       "</div>"
      ],
      "text/plain": [
       "   InvoiceNumber ProductCode                          ProductName  Quantity  \\\n",
       "0         489434       85048  15CM CHRISTMAS GLASS BALL 20 LIGHTS        12   \n",
       "1         489434      79323P                   PINK CHERRY LIGHTS        12   \n",
       "2         489434      79323W                  WHITE CHERRY LIGHTS        12   \n",
       "3         489434       22041         RECORD FRAME 7\" SINGLE SIZE         48   \n",
       "4         489434       21232       STRAWBERRY CERAMIC TRINKET BOX        24   \n",
       "\n",
       "           InvoiceDate  UnitPrice  CustomerId         Country  \n",
       "0  2009-12-01 07:45:00       6.95     13085.0  United Kingdom  \n",
       "1  2009-12-01 07:45:00       6.75     13085.0  United Kingdom  \n",
       "2  2009-12-01 07:45:00       6.75     13085.0  United Kingdom  \n",
       "3  2009-12-01 07:45:00       2.10     13085.0  United Kingdom  \n",
       "4  2009-12-01 07:45:00       1.25     13085.0  United Kingdom  "
      ]
     },
     "execution_count": 12,
     "metadata": {},
     "output_type": "execute_result"
    }
   ],
   "source": [
    "df = pd.read_csv(\"../final_project_1_preprocessing/preprocessed_sales.csv\")\n",
    "df.head()"
   ]
  },
  {
   "cell_type": "markdown",
   "id": "bf2d342e",
   "metadata": {
    "id": "8d09f90e"
   },
   "source": [
    "<h2 align=right style=\"line-height:200%;font-family:vazir;color:#0099cc\">\n",
    "<font face=\"vazir\" color=\"#0099cc\">\n",
    "    قسمت اول\n",
    "</font>\n",
    "</h2>\n",
    "\n",
    "<p dir=rtl style=\"direction: rtl;text-align: right;line-height:200%;font-family:vazir;font-size:medium\">\n",
    "<font face=\"vazir\" size=3>\n",
    "    تعداد فاکتورهای باقی‌مانده چند عدد است؟ توجه داشته باشید که منظور تعداد فاکتورهای یکتاست. پاسخ خود را در متغیر <code>number_of_orders</code> ذخیره کنید.\n",
    "        \n",
    "</font>\n",
    "</p>"
   ]
  },
  {
   "cell_type": "code",
   "execution_count": 13,
   "id": "d4a46e52",
   "metadata": {
    "id": "d54f4178"
   },
   "outputs": [],
   "source": [
    "number_of_orders = len(df['InvoiceNumber'].unique())"
   ]
  },
  {
   "cell_type": "markdown",
   "id": "0921ccd6",
   "metadata": {
    "id": "386781c4"
   },
   "source": [
    "\n",
    "<h2 align=right style=\"line-height:200%;font-family:vazir;color:#0099cc\">\n",
    "<font face=\"vazir\" color=\"#0099cc\">\n",
    "    قسمت دوم\n",
    "</font>\n",
    "</h2>\n",
    "\n",
    "<p dir=rtl style=\"direction: rtl;text-align: right;line-height:200%;font-family:vazir;font-size:medium\">\n",
    "<font face=\"vazir\" size=3>\n",
    "این داده‌ها در چه بازه‌ی زمانی‌ای جمع‌آوری شده‌اند؟ پاسخ خود را به‌صورت یک tuple در متغیر <code>window_period</code> ذخیره کنید که به‌ترتیب شامل کوچک‌ترین زمان و بزرگترین زمان باشد.\n",
    "    <br>\n",
    "    به عنوان مثال، اگر فرضاً کوچک‌ترین زمان، <code dir=ltr>2008-04-05 18:20:00</code> و بزرگ‌ترین زمان، <code dir=ltr>2010-11-19 20:40:00</code> باشد، آنگاه این متغیر به‌صورت زیر مقدار‌دهی می‌شود:\n",
    "</font>\n",
    "</p>\n",
    "\n",
    "```python\n",
    "window_period = ('2008-04-05 18:20:00', '2010-11-19 20:40:00')\n",
    "```"
   ]
  },
  {
   "cell_type": "code",
   "execution_count": 14,
   "id": "b65c6232",
   "metadata": {
    "id": "95f58e32"
   },
   "outputs": [
    {
     "data": {
      "text/plain": [
       "('2009-12-01 07:45:00', '2010-12-09 20:01:00')"
      ]
     },
     "execution_count": 14,
     "metadata": {},
     "output_type": "execute_result"
    }
   ],
   "source": [
    "df['InvoiceDate'] = pd.to_datetime(df['InvoiceDate'])\n",
    "sorted_datetime = df['InvoiceDate'].sort_values()\n",
    "window_period = (str(sorted_datetime.iloc[0]), str(sorted_datetime.iloc[-1]))\n",
    "window_period"
   ]
  },
  {
   "cell_type": "markdown",
   "id": "569fd8fb",
   "metadata": {},
   "source": [
    "<h2 align=right style=\"line-height:200%;font-family:vazir;color:#0099cc\">\n",
    "<font face=\"vazir\" color=\"#0099cc\">\n",
    "    قسمت سوم\n",
    "</font>\n",
    "</h2>\n",
    "\n",
    "<p dir=rtl style=\"direction: rtl;text-align: justify;line-height:200%;font-family:vazir;font-size:medium\">\n",
    "<font face=\"vazir\" size=3>\n",
    "با استفاده از نمودار میله‌ای، نشان دهید که در هر روز هفته (دوشنبه، سه‌شنبه و...) چند فاکتور یکتا صادر شده است.\n",
    "<br>\n",
    "برای انجام این کار، ابتدا باید روزی از هفته که معامله در آن انجام شده است را پیدا کنید، سپس محاسبه کنید که در هر روز هفته، چند فاکتور یکتا صادر شده است.\n",
    "<br>\n",
    "نمودار شما باید مشابه با تصویر زیر باشد:\n",
    "</font>\n",
    "</p>\n",
    "\n",
    "<p style=\"text-align:center; background: white\"><img src=\"fig1.png\"></p>\n",
    "\n",
    "<h3 align=right style=\"line-height:200%;font-family:vazir;color:#0099cc\">\n",
    "<font face=\"vazir\" color=\"#0099cc\">\n",
    "<b>ویژگی‌های نمودار</b>\n",
    "\n",
    "</font>\n",
    "</h3>\n",
    "\n",
    "<center>\n",
    "<div dir=rtl style=\"direction: rtl;line-height:200%;font-family:vazir;font-size:medium\">\n",
    "<font face=\"vazir\" size=3>\n",
    "\n",
    "| <b style=\"color:#0099cc\">ویژگی</b> | <b style=\"color:#0099cc\">مقدار</b> |\n",
    "| :---: | :---: |\n",
    "| اندازه‌ی شکل | ۱۵ در ۶ اینچ |\n",
    "| رنگ میله‌ها | <code>lime</code> |\n",
    "| رنگ عنوان محور افقی و عمودی | <code>lightseagreen</code> | \n",
    "| رنگ عنوان صفحه‌محور | <code>green</code> |\n",
    "| اندازه‌ی فونت عنوان صفحه‌محور، عنوان محورهای افقی و عمودی و اسم روزهای هفته | ۱۵ |\n",
    "| زاویه‌ی اسم روزهای هفته | ۰ | \n",
    "\n",
    "</font>\n",
    "</div>\n",
    "</center>"
   ]
  },
  {
   "cell_type": "code",
   "execution_count": 22,
   "id": "28671873",
   "metadata": {
    "id": "54fadd06"
   },
   "outputs": [
    {
     "data": {
      "image/png": "[encoded data removed]",
      "text/plain": [
       "<Figure size 1080x432 with 1 Axes>"
      ]
     },
     "metadata": {
      "needs_background": "light"
     },
     "output_type": "display_data"
    }
   ],
   "source": [
    "fig1, ax1 = plt.subplots(figsize=(15, 6))\n",
    "df_copy = df.copy()\n",
    "df_copy.drop_duplicates(subset='InvoiceNumber', inplace=True)\n",
    "orders = df_copy['InvoiceDate'].dt.day_name().value_counts()\n",
    "x_axis = [\"Mon\", \"Tue\", \"Wed\", \"Thur\", \"Fri\", \"Sat\", \"Sun\"]\n",
    "y_axis = [orders.loc[\"Monday\"], orders.loc[\"Tuesday\"],\n",
    "         orders.loc[\"Wednesday\"], orders.loc[\"Thursday\"],\n",
    "         orders.loc[\"Friday\"], orders.loc[\"Saturday\"],\n",
    "         orders.loc[\"Sunday\"]]\n",
    "ax1.bar(x_axis, y_axis, color='lime', width=0.5)\n",
    "ax1.set_xlabel('Day', color='lightseagreen', fontsize=15)\n",
    "ax1.set_ylabel(\"Number of Orders\", color='lightseagreen', fontsize=15)\n",
    "ax1.set_title(\"Number of orders for different Days\", color='green', fontsize=15);"
   ]
  },
  {
   "cell_type": "markdown",
   "id": "35774401",
   "metadata": {
    "id": "89f38873"
   },
   "source": [
    "<h2 align=right style=\"line-height:200%;font-family:vazir;color:#0099cc\">\n",
    "<font face=\"vazir\" color=\"#0099cc\">\n",
    "    قسمت چهارم\n",
    "</font>\n",
    "</h2>\n",
    "\n",
    "<p dir=rtl style=\"direction: rtl;text-align: justify;line-height:200%;font-family:vazir;font-size:medium\">\n",
    "<font face=\"vazir\" size=3>\n",
    "اکنون یک نمودار میله‌ای از مجموع فروش هر ماه از هر سال رسم کنید. توجه داشته باشید مجموع فروش هر ردیف از دیتافریم به کمک ضرب قیمت واحد آن (ستون <code>UnitPrice</code>) در تعداد سفارش آن محصول (ستون <code>Quantity</code>) به دست می‌آید.\n",
    "<br>\n",
    "نمودار شما باید مشابه با تصویر زیر باشد:\n",
    "</font>\n",
    "</p>\n",
    "\n",
    "<p style=\"text-align:center; background: white\"><img src=\"fig2.png\"></p>\n",
    "\n",
    "\n",
    "<h2 align=right style=\"line-height:200%;font-family:vazir;color:#0099cc\">\n",
    "<font face=\"vazir\" color=\"#0099cc\">\n",
    "ویژگی‌های نمودار\n",
    "</font>\n",
    "</h2>\n",
    "\n",
    "\n",
    "<center>\n",
    "<div dir=rtl style=\"direction: rtl;line-height:200%;font-family:vazir;font-size:medium\">\n",
    "<font face=\"vazir\" size=3>\n",
    "\n",
    "| <b style=\"color:#0099cc\">ویژگی</b> | <b style=\"color:#0099cc\">مقدار</b> |\n",
    "| :---: | :---: |\n",
    "| اندازه‌ی شکل | ۱۵ در ۶ اینچ |\n",
    "| رنگ میله‌ها | <code>darkkhaki</code> |\n",
    "| رنگ عنوان محور افقی و عمودی | <code>orange</code> | \n",
    "| رنگ عنوان صفحه‌محور | <code>cadetblue</code> |\n",
    "| اندازه‌ی فونت عنوان صفحه‌محور، عنوان محورهای افقی و عمودی | ۱۵ |\n",
    "| اندازه‌ی فونت اسم ماه‌ها | ۱۳ | \n",
    "| زاویه‌ی اسم ماه‌ها | ۴۵۰ | \n",
    "\n",
    "</font>\n",
    "</div>\n",
    "</center>"
   ]
  },
  {
   "cell_type": "code",
   "execution_count": 38,
   "id": "6a5d5aac",
   "metadata": {},
   "outputs": [
    {
     "data": {
      "image/png": "[encoded data removed]",
      "text/plain": [
       "<Figure size 1080x432 with 1 Axes>"
      ]
     },
     "metadata": {
      "needs_background": "light"
     },
     "output_type": "display_data"
    }
   ],
   "source": [
    "fig2, ax2 = plt.subplots(figsize=(15, 6))\n",
    "df['MonthYear'] = df['InvoiceDate'].dt.strftime('%b_%Y')\n",
    "df['TotalSale'] = df['UnitPrice'] * df['Quantity']\n",
    "month_year_counts = df.groupby('MonthYear')['TotalSale'].apply(np.sum)\n",
    "month_year_counts.index = pd.to_datetime(month_year_counts.index, format='%b_%Y')\n",
    "month_year_counts = month_year_counts.sort_index()\n",
    "\n",
    "month_year_counts.plot(kind='bar', ax=ax2, color='darkkhaki')\n",
    "ax2.set_xlabel('Month', fontsize=15, color='orange')\n",
    "ax2.set_ylabel('Sales amount', fontsize=15, color='orange')\n",
    "ax2.set_title('Number of orders for different Months', fontsize=15, color='cadetblue')\n",
    "\n",
    "formatted_labels = month_year_counts.index.strftime('%b_%Y')\n",
    "formatted_labels = [label.replace('Jul_2010', 'July_2010') if label == 'Jul_2010' else label for label in formatted_labels]\n",
    "ax2.set_xticklabels(formatted_labels, rotation=45, fontsize=13);"
   ]
  },
  {
   "cell_type": "markdown",
   "id": "f747a253",
   "metadata": {
    "id": "121d3f7d"
   },
   "source": [
    "<h2 align=right style=\"line-height:200%;font-family:vazir;color:#0099cc\">\n",
    "<font face=\"vazir\" color=\"#0099cc\">\n",
    "<b>سلول جواب‌ساز</b>\n",
    "</font>\n",
    "</h2>\n",
    "\n",
    "\n",
    "<p dir=rtl style=\"direction: rtl; text-align: justify; line-height:200%; font-family:vazir; font-size:medium\">\n",
    "<font face=\"vazir\" size=3>\n",
    "    برای ساخته‌شدن فایل <code>result.zip</code> سلول زیر را اجرا کنید. توجه داشته باشید که پیش از اجرای سلول زیر تغییرات اعمال شده در نت‌بوک را ذخیره کرده باشید (<code>ctrl+s</code>) تا در صورت نیاز به پشتیبانی امکان بررسی کد شما وجود داشته باشد.\n",
    "</font>\n",
    "</p>"
   ]
  },
  {
   "cell_type": "code",
   "execution_count": 39,
   "id": "9e436f62",
   "metadata": {
    "id": "tkcqzj4b6tv6"
   },
   "outputs": [
    {
     "name": "stdout",
     "output_type": "stream",
     "text": [
      "File Paths:\n",
      "['number_of_orders', 'window_period', 'fig1', 'fig2', 'final_project_2_exploration.ipynb']\n"
     ]
    }
   ],
   "source": [
    "import zipfile\n",
    "import joblib\n",
    "\n",
    "joblib.dump(number_of_orders,\"number_of_orders\")\n",
    "joblib.dump(window_period,\"window_period\")\n",
    "joblib.dump(fig1,\"fig1\")\n",
    "joblib.dump(fig2,\"fig2\")\n",
    "\n",
    "def compress(file_names):\n",
    "    print(\"File Paths:\")\n",
    "    print(file_names)\n",
    "    compression = zipfile.ZIP_DEFLATED\n",
    "    with zipfile.ZipFile(\"result.zip\", mode=\"w\") as zf:\n",
    "        for file_name in file_names:\n",
    "            zf.write('./' + file_name, file_name, compress_type=compression)\n",
    "\n",
    "file_names = [\"number_of_orders\", \"window_period\", \"fig1\", \"fig2\", \"final_project_2_exploration.ipynb\"]\n",
    "compress(file_names)"
   ]
  }
 ],
 "metadata": {
  "colab": {
   "name": "exploration_answers.ipynb",
   "provenance": []
  },
  "kernelspec": {
   "display_name": "Python 3 (ipykernel)",
   "language": "python",
   "name": "python3"
  },
  "language_info": {
   "codemirror_mode": {
    "name": "ipython",
    "version": 3
   },
   "file_extension": ".py",
   "mimetype": "text/x-python",
   "name": "python",
   "nbconvert_exporter": "python",
   "pygments_lexer": "ipython3",
   "version": "3.11.4"
  },
  "vscode": {
   "interpreter": {
    "hash": "6a29b8f2e1e8b11f80c3820468461bcdbea6564508a235f61a46eeb59d48b308"
   }
  }
 },
 "nbformat": 4,
 "nbformat_minor": 5
}
