{
 "cells": [
  {
   "cell_type": "markdown",
   "metadata": {},
   "source": [
    "<h1 align=center style=\"line-height:200%;font-family:vazir;color:#0099cc\">\n",
    "<font face=\"vazir\" color=\"#0099cc\">\n",
    "انقلاب امپراطوری\n",
    "</font>\n",
    "</h1>"
   ]
  },
  {
   "cell_type": "markdown",
   "metadata": {},
   "source": [
    "<p dir=rtl style=\"direction: rtl;text-align: justify;line-height:200%;font-family:vazir;font-size:medium\">\n",
    "<font face=\"vazir\" size=3>\n",
    "پس از آزمایش مدیر شرکت، کارمندان عزم‌شان را جزم کردند تا وضع شرکت را بهتر کنند. مدیر نیز تصمیم گرفت که فروش هفتگی هر کارمند را روی نموداری میله‌ای نشان دهد تا حس رقابت بین آن‌ها تقویت شود.\n",
    "</font> \n",
    "</p>"
   ]
  },
  {
   "cell_type": "markdown",
   "metadata": {},
   "source": [
    "<h2 align=right style=\"line-height:200%;font-family:vazir;color:#0099cc\">\n",
    "<font face=\"vazir\" color=\"#0099cc\">\n",
    "رسم نمودار\n",
    "</font>\n",
    "</h2>\n",
    "<p dir=rtl style=\"direction: rtl;text-align: justify;line-height:200%;font-family:vazir;font-size:medium\">\n",
    "<font face=\"vazir\" size=3>\n",
    "برای رسم نمودار، عملیات زیر را انجام دهید:\n",
    "\n",
    "<ul dir =rtl style=\"direction: rtl;text-align: justify;line-height:200%;font-family:vazir;font-size:medium\">\n",
    "  <li>\n",
    "یک شکل شامل یک صفحه‌محور بسازید و طول و عرض شکل را برابر ۸ اینچ قرار دهید.\n",
    "</li>\n",
    "\n",
    "  <li>\n",
    "در جدول زیر، تعداد محصولی که هر کارمند فروخته، آمده است. با استفاده از مت‌پلات، نمودار میله‌ای این اطلاعات را رسم کنید. نمودار را بر اساس میزان فروش مرتب کنبد به طوری که بهترین کارمند در سمت چپ نمودار و بدترین کارمند در سمت راست نمودار قرار بگیرد.\n",
    "  <li>\n",
    "رنگ میله‌ها را صورتی <code>pink</code> قرار دهید.\n",
    "  <li>\n",
    "عرض میله‌ها را برابر ۰.۶ اینچ قرار دهید. \n",
    "<li>\n",
    "\n",
    "عنوان محور عمودی را برابر <code>count</code> قرار دهید.\n",
    "</li>\n",
    "\n",
    "</ul>\n",
    "</font>\n",
    "</p>\n",
    "\n"
   ]
  },
  {
   "cell_type": "markdown",
   "metadata": {},
   "source": [
    "<p dir=rtl style=\"direction: rtl;text-align: right;line-height:200%;font-family:vazir;font-size:medium\">\n",
    "<table dir=rtl align = center>\n",
    "\n",
    "<tr>\n",
    "<th><font face=\"vazir\" size=3>حمزه</th>\n",
    "<th><font face=\"vazir\" size=3>دنا</th>\n",
    "<th><font face=\"vazir\" size=3>مصیب</th>\n",
    "<th><font face=\"vazir\" size=3>عرفان</th>\n",
    "<th><font face=\"vazir\" size=3>سارا</th>\n",
    "<th><font face=\"vazir\" size=3>ملیحه</th>\n",
    "\n",
    "\n",
    "</tr>\n",
    "\n",
    "\n",
    "<tr>\n",
    "<td><font face=\"vazir\" size=3>۳۲۰۰</td>\n",
    "<td><font face=\"vazir\" size=3>۲۷۹۸</td>\n",
    "<td><font face=\"vazir\" size=3>۵۰</td>\n",
    "<th><font face=\"vazir\" size=3>۲۷۱۳</th>\n",
    "<th><font face=\"vazir\" size=3>۲۸۸۰</th>\n",
    "<th><font face=\"vazir\" size=3>۲۵۰۲</th>\n",
    "</tr>\n",
    "\n",
    "</table>\n",
    "</p>\n"
   ]
  },
  {
   "cell_type": "markdown",
   "metadata": {},
   "source": [
    "<p dir=rtl style=\"direction: rtl;text-align: justify;line-height:200%;font-family:vazir;font-size:medium\">\n",
    "<font face=\"vazir\" size=3>\n",
    "معادل انگلیسی نام‌ها برای استفاده در مت‌پلات را در زیر مشاهده می‌کنید:\n",
    "</font>\n",
    "</p>\n"
   ]
  },
  {
   "cell_type": "markdown",
   "metadata": {},
   "source": [
    "<p dir=rtl style=\"direction: rtl;text-align: right;line-height:200%;font-family:vazir;font-size:medium\">\n",
    "<table dir=rtl align = center>\n",
    "\n",
    "<tr>\n",
    "<th><font face=\"vazir\" size=3>حمزه</th>\n",
    "<th><font face=\"vazir\" size=3>دنا</th>\n",
    "<th><font face=\"vazir\" size=3>مصیب</th>\n",
    "<th><font face=\"vazir\" size=3>عرفان</th>\n",
    "<th><font face=\"vazir\" size=3>سارا</th>\n",
    "<th><font face=\"vazir\" size=3>ملیحه</th>\n",
    "\n",
    "</tr>\n",
    "\n",
    "<tr>\n",
    "<td><font face=\"vazir\" size=3>hamze</td>\n",
    "<td><font face=\"vazir\" size=3>dena</td>\n",
    "<td><font face=\"vazir\" size=3>mosayeb</td>\n",
    "<th><font face=\"vazir\" size=3>erfan</th>\n",
    "<th><font face=\"vazir\" size=3>sara</th>\n",
    "<th><font face=\"vazir\" size=3>malihe</th>\n",
    "</tr>\n",
    "\n",
    "</table>\n",
    "</p>"
   ]
  },
  {
   "cell_type": "code",
   "execution_count": 13,
   "metadata": {},
   "outputs": [],
   "source": [
    "import matplotlib.pyplot as plt"
   ]
  },
  {
   "cell_type": "code",
   "execution_count": 23,
   "metadata": {},
   "outputs": [
    {
     "data": {
      "image/png": "[encoded data removed]",
      "text/plain": [
       "<Figure size 576x576 with 1 Axes>"
      ]
     },
     "metadata": {
      "needs_background": "light"
     },
     "output_type": "display_data"
    }
   ],
   "source": [
    "# TODO: draw the described plot\n",
    "fig, ax = plt.subplots(figsize=(8, 8))\n",
    "names = [\"hamze\", \"sara\", \"dena\", \"erfan\", \"malihe\", \"mosayeb\"]\n",
    "sales = [3200, 2880, 2798, 2713, 2502, 50]\n",
    "ax.bar(names, sales, color='pink', width=0.6);\n",
    "ax.set_ylabel(\"count\");"
   ]
  },
  {
   "cell_type": "markdown",
   "metadata": {},
   "source": [
    "<h2 align=right style=\"line-height:200%;font-family:vazir;color:#0099cc\">\n",
    "<font face=\"vazir\" color=\"#0099cc\">\n",
    "<b>سلول جواب‌ساز</b>\n",
    "</font>\n",
    "</h2>\n",
    "\n",
    "\n",
    "<p dir=rtl style=\"direction: rtl; text-align: justify; line-height:200%; font-family:vazir; font-size:medium\">\n",
    "<font face=\"vazir\" size=3>\n",
    "    برای ساخته‌شدن فایل <code>result.zip</code> سلول زیر را اجرا کنید. توجه داشته باشید که پیش از اجرای سلول زیر تغییرات اعمال شده در نت‌بوک را ذخیره کرده باشید (<code>ctrl+s</code>) تا در صورت نیاز به پشتیبانی امکان بررسی کد شما وجود داشته باشد.\n",
    "</font>\n",
    "</p>\n"
   ]
  },
  {
   "cell_type": "code",
   "execution_count": 24,
   "metadata": {},
   "outputs": [
    {
     "name": "stdout",
     "output_type": "stream",
     "text": [
      "File Paths:\n",
      "['fig', 'revolution_of_empire.ipynb']\n"
     ]
    }
   ],
   "source": [
    "import zipfile\n",
    "import joblib\n",
    "import json\n",
    "\n",
    "joblib.dump(fig,\"fig\")\n",
    "\n",
    "def compress(file_names):\n",
    "    print(\"File Paths:\")\n",
    "    print(file_names)\n",
    "    # Select the compression mode ZIP_DEFLATED for compression\n",
    "    # or zipfile.ZIP_STORED to just store the file\n",
    "    compression = zipfile.ZIP_DEFLATED\n",
    "    # create the zip file first parameter path/name, second mode\n",
    "    with zipfile.ZipFile(\"result.zip\", mode=\"w\") as zf:\n",
    "        for file_name in file_names:\n",
    "            # Add file to the zip file\n",
    "            # first parameter file to zip, second filename in zip\n",
    "            zf.write('./' + file_name, file_name, compress_type=compression)\n",
    "\n",
    "file_names = [\"fig\",'revolution_of_empire.ipynb']\n",
    "compress(file_names)"
   ]
  }
 ],
 "metadata": {
  "interpreter": {
   "hash": "a1a46404003b1888471f66733c8ff43ecbbd22069e04669a0d47e7a2f84d0bb4"
  },
  "kernelspec": {
   "display_name": "Python 3 (ipykernel)",
   "language": "python",
   "name": "python3"
  },
  "language_info": {
   "codemirror_mode": {
    "name": "ipython",
    "version": 3
   },
   "file_extension": ".py",
   "mimetype": "text/x-python",
   "name": "python",
   "nbconvert_exporter": "python",
   "pygments_lexer": "ipython3",
   "version": "3.11.4"
  }
 },
 "nbformat": 4,
 "nbformat_minor": 2
}
